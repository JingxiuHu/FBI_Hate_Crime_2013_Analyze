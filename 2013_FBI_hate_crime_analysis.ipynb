{
 "cells": [
  {
   "cell_type": "code",
   "execution_count": 1,
   "metadata": {},
   "outputs": [],
   "source": [
    "import pandas as pd\n",
    "import numpy as np"
   ]
  },
  {
   "cell_type": "code",
   "execution_count": 2,
   "metadata": {},
   "outputs": [],
   "source": [
    "crimeDF = pd.read_csv(\"FBI_2013_Hate_Crime_Data.csv\")"
   ]
  },
  {
   "cell_type": "code",
   "execution_count": 3,
   "metadata": {},
   "outputs": [
    {
     "data": {
      "text/html": [
       "<div>\n",
       "<style scoped>\n",
       "    .dataframe tbody tr th:only-of-type {\n",
       "        vertical-align: middle;\n",
       "    }\n",
       "\n",
       "    .dataframe tbody tr th {\n",
       "        vertical-align: top;\n",
       "    }\n",
       "\n",
       "    .dataframe thead th {\n",
       "        text-align: right;\n",
       "    }\n",
       "</style>\n",
       "<table border=\"1\" class=\"dataframe\">\n",
       "  <thead>\n",
       "    <tr style=\"text-align: right;\">\n",
       "      <th></th>\n",
       "      <th>State</th>\n",
       "      <th>Agency type</th>\n",
       "      <th>Agency name</th>\n",
       "      <th>Race</th>\n",
       "      <th>Religion</th>\n",
       "      <th>Sexual orientation</th>\n",
       "      <th>Ethnicity</th>\n",
       "      <th>Disability</th>\n",
       "      <th>Gender</th>\n",
       "      <th>Gender Identity</th>\n",
       "      <th>1st quarter</th>\n",
       "      <th>2nd quarter</th>\n",
       "      <th>3rd quarter</th>\n",
       "      <th>4th quarter</th>\n",
       "      <th>Population</th>\n",
       "    </tr>\n",
       "  </thead>\n",
       "  <tbody>\n",
       "    <tr>\n",
       "      <th>258</th>\n",
       "      <td>California</td>\n",
       "      <td>Metropolitan Counties</td>\n",
       "      <td>Santa Cruz</td>\n",
       "      <td>1</td>\n",
       "      <td>0</td>\n",
       "      <td>1</td>\n",
       "      <td>1</td>\n",
       "      <td>0</td>\n",
       "      <td>0</td>\n",
       "      <td>0.0</td>\n",
       "      <td>2.0</td>\n",
       "      <td>0.0</td>\n",
       "      <td>1.0</td>\n",
       "      <td>0.0</td>\n",
       "      <td>NaN</td>\n",
       "    </tr>\n",
       "    <tr>\n",
       "      <th>984</th>\n",
       "      <td>New_Jersey</td>\n",
       "      <td>Cities</td>\n",
       "      <td>Brick Township</td>\n",
       "      <td>2</td>\n",
       "      <td>1</td>\n",
       "      <td>0</td>\n",
       "      <td>1</td>\n",
       "      <td>0</td>\n",
       "      <td>0</td>\n",
       "      <td>0.0</td>\n",
       "      <td>1.0</td>\n",
       "      <td>2.0</td>\n",
       "      <td>1.0</td>\n",
       "      <td>0.0</td>\n",
       "      <td>75,371</td>\n",
       "    </tr>\n",
       "    <tr>\n",
       "      <th>922</th>\n",
       "      <td>Missouri</td>\n",
       "      <td>Cities</td>\n",
       "      <td>Raytown</td>\n",
       "      <td>1</td>\n",
       "      <td>0</td>\n",
       "      <td>0</td>\n",
       "      <td>0</td>\n",
       "      <td>0</td>\n",
       "      <td>0</td>\n",
       "      <td>0.0</td>\n",
       "      <td>0.0</td>\n",
       "      <td>0.0</td>\n",
       "      <td>0.0</td>\n",
       "      <td>1.0</td>\n",
       "      <td>29,501</td>\n",
       "    </tr>\n",
       "    <tr>\n",
       "      <th>351</th>\n",
       "      <td>Connecticut</td>\n",
       "      <td>Cities</td>\n",
       "      <td>Plainville</td>\n",
       "      <td>0</td>\n",
       "      <td>0</td>\n",
       "      <td>1</td>\n",
       "      <td>0</td>\n",
       "      <td>0</td>\n",
       "      <td>0</td>\n",
       "      <td>0.0</td>\n",
       "      <td>NaN</td>\n",
       "      <td>NaN</td>\n",
       "      <td>NaN</td>\n",
       "      <td>1.0</td>\n",
       "      <td>17,850</td>\n",
       "    </tr>\n",
       "    <tr>\n",
       "      <th>231</th>\n",
       "      <td>California</td>\n",
       "      <td>Universities and Colleges</td>\n",
       "      <td>California State Polytechnic University: San L...</td>\n",
       "      <td>0</td>\n",
       "      <td>0</td>\n",
       "      <td>1</td>\n",
       "      <td>0</td>\n",
       "      <td>0</td>\n",
       "      <td>0</td>\n",
       "      <td>0.0</td>\n",
       "      <td>1.0</td>\n",
       "      <td>0.0</td>\n",
       "      <td>0.0</td>\n",
       "      <td>0.0</td>\n",
       "      <td>18,679</td>\n",
       "    </tr>\n",
       "  </tbody>\n",
       "</table>\n",
       "</div>"
      ],
      "text/plain": [
       "           State                Agency type  \\\n",
       "258   California      Metropolitan Counties   \n",
       "984   New_Jersey                     Cities   \n",
       "922     Missouri                     Cities   \n",
       "351  Connecticut                     Cities   \n",
       "231   California  Universities and Colleges   \n",
       "\n",
       "                                           Agency name  Race  Religion  \\\n",
       "258                                         Santa Cruz     1         0   \n",
       "984                                     Brick Township     2         1   \n",
       "922                                            Raytown     1         0   \n",
       "351                                         Plainville     0         0   \n",
       "231  California State Polytechnic University: San L...     0         0   \n",
       "\n",
       "     Sexual orientation  Ethnicity  Disability Gender  Gender Identity  \\\n",
       "258                   1          1           0      0              0.0   \n",
       "984                   0          1           0      0              0.0   \n",
       "922                   0          0           0      0              0.0   \n",
       "351                   1          0           0      0              0.0   \n",
       "231                   1          0           0      0              0.0   \n",
       "\n",
       "     1st quarter  2nd quarter  3rd quarter  4th quarter Population  \n",
       "258          2.0          0.0          1.0          0.0        NaN  \n",
       "984          1.0          2.0          1.0          0.0     75,371  \n",
       "922          0.0          0.0          0.0          1.0     29,501  \n",
       "351          NaN          NaN          NaN          1.0     17,850  \n",
       "231          1.0          0.0          0.0          0.0     18,679  "
      ]
     },
     "execution_count": 3,
     "metadata": {},
     "output_type": "execute_result"
    }
   ],
   "source": [
    "crimeDF.sample(n=5, random_state=1)"
   ]
  },
  {
   "cell_type": "markdown",
   "metadata": {},
   "source": [
    "We can see Metropolitan Counties and Nonmetropolitan Counties has NaN in their Population column."
   ]
  },
  {
   "cell_type": "code",
   "execution_count": 4,
   "metadata": {},
   "outputs": [
    {
     "data": {
      "text/html": [
       "<div>\n",
       "<style scoped>\n",
       "    .dataframe tbody tr th:only-of-type {\n",
       "        vertical-align: middle;\n",
       "    }\n",
       "\n",
       "    .dataframe tbody tr th {\n",
       "        vertical-align: top;\n",
       "    }\n",
       "\n",
       "    .dataframe thead th {\n",
       "        text-align: right;\n",
       "    }\n",
       "</style>\n",
       "<table border=\"1\" class=\"dataframe\">\n",
       "  <thead>\n",
       "    <tr style=\"text-align: right;\">\n",
       "      <th></th>\n",
       "      <th>State</th>\n",
       "      <th>Agency type</th>\n",
       "      <th>Agency name</th>\n",
       "      <th>Race</th>\n",
       "      <th>Religion</th>\n",
       "      <th>Sexual orientation</th>\n",
       "      <th>Ethnicity</th>\n",
       "      <th>Disability</th>\n",
       "      <th>Gender</th>\n",
       "      <th>Gender Identity</th>\n",
       "      <th>1st quarter</th>\n",
       "      <th>2nd quarter</th>\n",
       "      <th>3rd quarter</th>\n",
       "      <th>4th quarter</th>\n",
       "      <th>Population</th>\n",
       "    </tr>\n",
       "  </thead>\n",
       "  <tbody>\n",
       "    <tr>\n",
       "      <th>616</th>\n",
       "      <td>Louisiana</td>\n",
       "      <td>Metropolitan Counties</td>\n",
       "      <td>Calcasieu</td>\n",
       "      <td>0</td>\n",
       "      <td>4</td>\n",
       "      <td>3</td>\n",
       "      <td>0</td>\n",
       "      <td>0</td>\n",
       "      <td>0</td>\n",
       "      <td>0.0</td>\n",
       "      <td>4.0</td>\n",
       "      <td>1.0</td>\n",
       "      <td>1.0</td>\n",
       "      <td>1.0</td>\n",
       "      <td>NaN</td>\n",
       "    </tr>\n",
       "    <tr>\n",
       "      <th>315</th>\n",
       "      <td>Colorado</td>\n",
       "      <td>Metropolitan Counties</td>\n",
       "      <td>Pueblo</td>\n",
       "      <td>1</td>\n",
       "      <td>0</td>\n",
       "      <td>0</td>\n",
       "      <td>0</td>\n",
       "      <td>0</td>\n",
       "      <td>0</td>\n",
       "      <td>0.0</td>\n",
       "      <td>0.0</td>\n",
       "      <td>0.0</td>\n",
       "      <td>1.0</td>\n",
       "      <td>0.0</td>\n",
       "      <td>NaN</td>\n",
       "    </tr>\n",
       "    <tr>\n",
       "      <th>316</th>\n",
       "      <td>Colorado</td>\n",
       "      <td>Metropolitan Counties</td>\n",
       "      <td>Weld</td>\n",
       "      <td>1</td>\n",
       "      <td>0</td>\n",
       "      <td>1</td>\n",
       "      <td>0</td>\n",
       "      <td>0</td>\n",
       "      <td>0</td>\n",
       "      <td>0.0</td>\n",
       "      <td>1.0</td>\n",
       "      <td>0.0</td>\n",
       "      <td>1.0</td>\n",
       "      <td>0.0</td>\n",
       "      <td>NaN</td>\n",
       "    </tr>\n",
       "    <tr>\n",
       "      <th>503</th>\n",
       "      <td>Iowa</td>\n",
       "      <td>Metropolitan Counties</td>\n",
       "      <td>Mills</td>\n",
       "      <td>1</td>\n",
       "      <td>0</td>\n",
       "      <td>0</td>\n",
       "      <td>0</td>\n",
       "      <td>0</td>\n",
       "      <td>0</td>\n",
       "      <td>0.0</td>\n",
       "      <td>0.0</td>\n",
       "      <td>1.0</td>\n",
       "      <td>0.0</td>\n",
       "      <td>0.0</td>\n",
       "      <td>NaN</td>\n",
       "    </tr>\n",
       "    <tr>\n",
       "      <th>860</th>\n",
       "      <td>Michigan</td>\n",
       "      <td>Metropolitan Counties</td>\n",
       "      <td>Oakland</td>\n",
       "      <td>7</td>\n",
       "      <td>2</td>\n",
       "      <td>5</td>\n",
       "      <td>3</td>\n",
       "      <td>0</td>\n",
       "      <td>0</td>\n",
       "      <td>0.0</td>\n",
       "      <td>5.0</td>\n",
       "      <td>4.0</td>\n",
       "      <td>5.0</td>\n",
       "      <td>3.0</td>\n",
       "      <td>NaN</td>\n",
       "    </tr>\n",
       "  </tbody>\n",
       "</table>\n",
       "</div>"
      ],
      "text/plain": [
       "         State            Agency type Agency name  Race  Religion  \\\n",
       "616  Louisiana  Metropolitan Counties   Calcasieu     0         4   \n",
       "315   Colorado  Metropolitan Counties      Pueblo     1         0   \n",
       "316   Colorado  Metropolitan Counties        Weld     1         0   \n",
       "503       Iowa  Metropolitan Counties       Mills     1         0   \n",
       "860   Michigan  Metropolitan Counties     Oakland     7         2   \n",
       "\n",
       "     Sexual orientation  Ethnicity  Disability Gender  Gender Identity  \\\n",
       "616                   3          0           0      0              0.0   \n",
       "315                   0          0           0      0              0.0   \n",
       "316                   1          0           0      0              0.0   \n",
       "503                   0          0           0      0              0.0   \n",
       "860                   5          3           0      0              0.0   \n",
       "\n",
       "     1st quarter  2nd quarter  3rd quarter  4th quarter Population  \n",
       "616          4.0          1.0          1.0          1.0        NaN  \n",
       "315          0.0          0.0          1.0          0.0        NaN  \n",
       "316          1.0          0.0          1.0          0.0        NaN  \n",
       "503          0.0          1.0          0.0          0.0        NaN  \n",
       "860          5.0          4.0          5.0          3.0        NaN  "
      ]
     },
     "execution_count": 4,
     "metadata": {},
     "output_type": "execute_result"
    }
   ],
   "source": [
    "crimeDF.loc[crimeDF['Agency type']==('Metropolitan Counties')].sample(n=5, random_state=1)"
   ]
  },
  {
   "cell_type": "code",
   "execution_count": 5,
   "metadata": {},
   "outputs": [
    {
     "data": {
      "text/html": [
       "<div>\n",
       "<style scoped>\n",
       "    .dataframe tbody tr th:only-of-type {\n",
       "        vertical-align: middle;\n",
       "    }\n",
       "\n",
       "    .dataframe tbody tr th {\n",
       "        vertical-align: top;\n",
       "    }\n",
       "\n",
       "    .dataframe thead th {\n",
       "        text-align: right;\n",
       "    }\n",
       "</style>\n",
       "<table border=\"1\" class=\"dataframe\">\n",
       "  <thead>\n",
       "    <tr style=\"text-align: right;\">\n",
       "      <th></th>\n",
       "      <th>State</th>\n",
       "      <th>Agency type</th>\n",
       "      <th>Agency name</th>\n",
       "      <th>Race</th>\n",
       "      <th>Religion</th>\n",
       "      <th>Sexual orientation</th>\n",
       "      <th>Ethnicity</th>\n",
       "      <th>Disability</th>\n",
       "      <th>Gender</th>\n",
       "      <th>Gender Identity</th>\n",
       "      <th>1st quarter</th>\n",
       "      <th>2nd quarter</th>\n",
       "      <th>3rd quarter</th>\n",
       "      <th>4th quarter</th>\n",
       "      <th>Population</th>\n",
       "    </tr>\n",
       "  </thead>\n",
       "  <tbody>\n",
       "    <tr>\n",
       "      <th>534</th>\n",
       "      <td>Kansas</td>\n",
       "      <td>Nonmetropolitan Counties</td>\n",
       "      <td>Greenwood</td>\n",
       "      <td>1</td>\n",
       "      <td>0</td>\n",
       "      <td>0</td>\n",
       "      <td>0</td>\n",
       "      <td>0</td>\n",
       "      <td>0</td>\n",
       "      <td>0.0</td>\n",
       "      <td>0.0</td>\n",
       "      <td>1.0</td>\n",
       "      <td>0.0</td>\n",
       "      <td>0.0</td>\n",
       "      <td>NaN</td>\n",
       "    </tr>\n",
       "    <tr>\n",
       "      <th>1636</th>\n",
       "      <td>Utah</td>\n",
       "      <td>Nonmetropolitan Counties</td>\n",
       "      <td>Carbon</td>\n",
       "      <td>3</td>\n",
       "      <td>0</td>\n",
       "      <td>0</td>\n",
       "      <td>0</td>\n",
       "      <td>0</td>\n",
       "      <td>0</td>\n",
       "      <td>0.0</td>\n",
       "      <td>1.0</td>\n",
       "      <td>0.0</td>\n",
       "      <td>2.0</td>\n",
       "      <td>0.0</td>\n",
       "      <td>NaN</td>\n",
       "    </tr>\n",
       "    <tr>\n",
       "      <th>913</th>\n",
       "      <td>Minnesota</td>\n",
       "      <td>Nonmetropolitan Counties</td>\n",
       "      <td>Rice</td>\n",
       "      <td>1</td>\n",
       "      <td>0</td>\n",
       "      <td>0</td>\n",
       "      <td>0</td>\n",
       "      <td>0</td>\n",
       "      <td>0</td>\n",
       "      <td>0.0</td>\n",
       "      <td>0.0</td>\n",
       "      <td>1.0</td>\n",
       "      <td>0.0</td>\n",
       "      <td>0.0</td>\n",
       "      <td>NaN</td>\n",
       "    </tr>\n",
       "    <tr>\n",
       "      <th>1802</th>\n",
       "      <td>West_Virginia</td>\n",
       "      <td>Nonmetropolitan Counties</td>\n",
       "      <td>Harrison</td>\n",
       "      <td>1</td>\n",
       "      <td>1</td>\n",
       "      <td>2</td>\n",
       "      <td>0</td>\n",
       "      <td>0</td>\n",
       "      <td>0</td>\n",
       "      <td>0.0</td>\n",
       "      <td>0.0</td>\n",
       "      <td>0.0</td>\n",
       "      <td>2.0</td>\n",
       "      <td>2.0</td>\n",
       "      <td>NaN</td>\n",
       "    </tr>\n",
       "    <tr>\n",
       "      <th>1824</th>\n",
       "      <td>Wisconsin</td>\n",
       "      <td>Nonmetropolitan Counties</td>\n",
       "      <td>Oneida</td>\n",
       "      <td>1</td>\n",
       "      <td>0</td>\n",
       "      <td>0</td>\n",
       "      <td>0</td>\n",
       "      <td>0</td>\n",
       "      <td>0</td>\n",
       "      <td>0.0</td>\n",
       "      <td>0.0</td>\n",
       "      <td>1.0</td>\n",
       "      <td>0.0</td>\n",
       "      <td>0.0</td>\n",
       "      <td>NaN</td>\n",
       "    </tr>\n",
       "  </tbody>\n",
       "</table>\n",
       "</div>"
      ],
      "text/plain": [
       "              State               Agency type Agency name  Race  Religion  \\\n",
       "534          Kansas  Nonmetropolitan Counties   Greenwood     1         0   \n",
       "1636           Utah  Nonmetropolitan Counties      Carbon     3         0   \n",
       "913       Minnesota  Nonmetropolitan Counties        Rice     1         0   \n",
       "1802  West_Virginia  Nonmetropolitan Counties    Harrison     1         1   \n",
       "1824      Wisconsin  Nonmetropolitan Counties      Oneida     1         0   \n",
       "\n",
       "      Sexual orientation  Ethnicity  Disability Gender  Gender Identity  \\\n",
       "534                    0          0           0      0              0.0   \n",
       "1636                   0          0           0      0              0.0   \n",
       "913                    0          0           0      0              0.0   \n",
       "1802                   2          0           0      0              0.0   \n",
       "1824                   0          0           0      0              0.0   \n",
       "\n",
       "      1st quarter  2nd quarter  3rd quarter  4th quarter Population  \n",
       "534           0.0          1.0          0.0          0.0        NaN  \n",
       "1636          1.0          0.0          2.0          0.0        NaN  \n",
       "913           0.0          1.0          0.0          0.0        NaN  \n",
       "1802          0.0          0.0          2.0          2.0        NaN  \n",
       "1824          0.0          1.0          0.0          0.0        NaN  "
      ]
     },
     "execution_count": 5,
     "metadata": {},
     "output_type": "execute_result"
    }
   ],
   "source": [
    "crimeDF.loc[crimeDF['Agency type']==('Nonmetropolitan Counties')].sample(n=5, random_state=1).sample(n=5, random_state=1)"
   ]
  },
  {
   "cell_type": "markdown",
   "metadata": {},
   "source": [
    "We will fill the NaN value in the crimeDF with information we got from another file contains population for counties."
   ]
  },
  {
   "cell_type": "code",
   "execution_count": 6,
   "metadata": {},
   "outputs": [],
   "source": [
    "countyDF = pd.read_csv(\"county_population.csv\")"
   ]
  },
  {
   "cell_type": "markdown",
   "metadata": {},
   "source": [
    "we can see the 'link' column is not cleaned, we only want to keep the county name."
   ]
  },
  {
   "cell_type": "code",
   "execution_count": 7,
   "metadata": {},
   "outputs": [
    {
     "data": {
      "text/html": [
       "<div>\n",
       "<style scoped>\n",
       "    .dataframe tbody tr th:only-of-type {\n",
       "        vertical-align: middle;\n",
       "    }\n",
       "\n",
       "    .dataframe tbody tr th {\n",
       "        vertical-align: top;\n",
       "    }\n",
       "\n",
       "    .dataframe thead th {\n",
       "        text-align: right;\n",
       "    }\n",
       "</style>\n",
       "<table border=\"1\" class=\"dataframe\">\n",
       "  <thead>\n",
       "    <tr style=\"text-align: right;\">\n",
       "      <th></th>\n",
       "      <th>link</th>\n",
       "      <th>State</th>\n",
       "      <th>pop2016</th>\n",
       "      <th>pop2010</th>\n",
       "      <th>GrowthRate</th>\n",
       "    </tr>\n",
       "  </thead>\n",
       "  <tbody>\n",
       "    <tr>\n",
       "      <th>80</th>\n",
       "      <td>{\"type\":\"a\",\"key\":null,\"ref\":null,\"props\":{\"hr...</td>\n",
       "      <td>Massachusetts</td>\n",
       "      <td>785205</td>\n",
       "      <td>745422</td>\n",
       "      <td>0.053370</td>\n",
       "    </tr>\n",
       "    <tr>\n",
       "      <th>84</th>\n",
       "      <td>{\"type\":\"a\",\"key\":null,\"ref\":null,\"props\":{\"hr...</td>\n",
       "      <td>Georgia</td>\n",
       "      <td>755754</td>\n",
       "      <td>689595</td>\n",
       "      <td>0.095939</td>\n",
       "    </tr>\n",
       "    <tr>\n",
       "      <th>33</th>\n",
       "      <td>{\"type\":\"a\",\"key\":null,\"ref\":null,\"props\":{\"hr...</td>\n",
       "      <td>Ohio</td>\n",
       "      <td>1248514</td>\n",
       "      <td>1278200</td>\n",
       "      <td>-0.023225</td>\n",
       "    </tr>\n",
       "    <tr>\n",
       "      <th>81</th>\n",
       "      <td>{\"type\":\"a\",\"key\":null,\"ref\":null,\"props\":{\"hr...</td>\n",
       "      <td>California</td>\n",
       "      <td>771410</td>\n",
       "      <td>719899</td>\n",
       "      <td>0.071553</td>\n",
       "    </tr>\n",
       "    <tr>\n",
       "      <th>93</th>\n",
       "      <td>{\"type\":\"a\",\"key\":null,\"ref\":null,\"props\":{\"hr...</td>\n",
       "      <td>Missouri</td>\n",
       "      <td>698895</td>\n",
       "      <td>674804</td>\n",
       "      <td>0.035701</td>\n",
       "    </tr>\n",
       "  </tbody>\n",
       "</table>\n",
       "</div>"
      ],
      "text/plain": [
       "                                                 link          State  pop2016  \\\n",
       "80  {\"type\":\"a\",\"key\":null,\"ref\":null,\"props\":{\"hr...  Massachusetts   785205   \n",
       "84  {\"type\":\"a\",\"key\":null,\"ref\":null,\"props\":{\"hr...        Georgia   755754   \n",
       "33  {\"type\":\"a\",\"key\":null,\"ref\":null,\"props\":{\"hr...           Ohio  1248514   \n",
       "81  {\"type\":\"a\",\"key\":null,\"ref\":null,\"props\":{\"hr...     California   771410   \n",
       "93  {\"type\":\"a\",\"key\":null,\"ref\":null,\"props\":{\"hr...       Missouri   698895   \n",
       "\n",
       "    pop2010  GrowthRate  \n",
       "80   745422    0.053370  \n",
       "84   689595    0.095939  \n",
       "33  1278200   -0.023225  \n",
       "81   719899    0.071553  \n",
       "93   674804    0.035701  "
      ]
     },
     "execution_count": 7,
     "metadata": {},
     "output_type": "execute_result"
    }
   ],
   "source": [
    "countyDF.sample(n=5, random_state=1)"
   ]
  },
  {
   "cell_type": "markdown",
   "metadata": {},
   "source": [
    "Clean the link column and store the result in a listed called link_clean."
   ]
  },
  {
   "cell_type": "code",
   "execution_count": 8,
   "metadata": {},
   "outputs": [],
   "source": [
    "whitelist = set('abcdefghijklmnopqrstuvwxyz ABCDEFGHIJKLMNOPQRSTUVWXYZ')"
   ]
  },
  {
   "cell_type": "code",
   "execution_count": 9,
   "metadata": {},
   "outputs": [],
   "source": [
    "clean_link= []\n",
    "for element in countyDF['link']:\n",
    "    element = element.split(\",\")[4].split(':')[1]\n",
    "    element = ''.join(filter(whitelist.__contains__, element))\n",
    "    clean_link.append(element)"
   ]
  },
  {
   "cell_type": "code",
   "execution_count": 10,
   "metadata": {},
   "outputs": [],
   "source": [
    "countyDF['clean_link'] = clean_link"
   ]
  },
  {
   "cell_type": "code",
   "execution_count": 11,
   "metadata": {},
   "outputs": [
    {
     "data": {
      "text/html": [
       "<div>\n",
       "<style scoped>\n",
       "    .dataframe tbody tr th:only-of-type {\n",
       "        vertical-align: middle;\n",
       "    }\n",
       "\n",
       "    .dataframe tbody tr th {\n",
       "        vertical-align: top;\n",
       "    }\n",
       "\n",
       "    .dataframe thead th {\n",
       "        text-align: right;\n",
       "    }\n",
       "</style>\n",
       "<table border=\"1\" class=\"dataframe\">\n",
       "  <thead>\n",
       "    <tr style=\"text-align: right;\">\n",
       "      <th></th>\n",
       "      <th>link</th>\n",
       "      <th>State</th>\n",
       "      <th>pop2016</th>\n",
       "      <th>pop2010</th>\n",
       "      <th>GrowthRate</th>\n",
       "      <th>clean_link</th>\n",
       "    </tr>\n",
       "  </thead>\n",
       "  <tbody>\n",
       "    <tr>\n",
       "      <th>80</th>\n",
       "      <td>{\"type\":\"a\",\"key\":null,\"ref\":null,\"props\":{\"hr...</td>\n",
       "      <td>Massachusetts</td>\n",
       "      <td>785205</td>\n",
       "      <td>745422</td>\n",
       "      <td>0.053370</td>\n",
       "      <td>Essex County</td>\n",
       "    </tr>\n",
       "    <tr>\n",
       "      <th>84</th>\n",
       "      <td>{\"type\":\"a\",\"key\":null,\"ref\":null,\"props\":{\"hr...</td>\n",
       "      <td>Georgia</td>\n",
       "      <td>755754</td>\n",
       "      <td>689595</td>\n",
       "      <td>0.095939</td>\n",
       "      <td>Cobb County</td>\n",
       "    </tr>\n",
       "    <tr>\n",
       "      <th>33</th>\n",
       "      <td>{\"type\":\"a\",\"key\":null,\"ref\":null,\"props\":{\"hr...</td>\n",
       "      <td>Ohio</td>\n",
       "      <td>1248514</td>\n",
       "      <td>1278200</td>\n",
       "      <td>-0.023225</td>\n",
       "      <td>Cuyahoga County</td>\n",
       "    </tr>\n",
       "    <tr>\n",
       "      <th>81</th>\n",
       "      <td>{\"type\":\"a\",\"key\":null,\"ref\":null,\"props\":{\"hr...</td>\n",
       "      <td>California</td>\n",
       "      <td>771410</td>\n",
       "      <td>719899</td>\n",
       "      <td>0.071553</td>\n",
       "      <td>San Mateo County</td>\n",
       "    </tr>\n",
       "    <tr>\n",
       "      <th>93</th>\n",
       "      <td>{\"type\":\"a\",\"key\":null,\"ref\":null,\"props\":{\"hr...</td>\n",
       "      <td>Missouri</td>\n",
       "      <td>698895</td>\n",
       "      <td>674804</td>\n",
       "      <td>0.035701</td>\n",
       "      <td>Jackson County</td>\n",
       "    </tr>\n",
       "  </tbody>\n",
       "</table>\n",
       "</div>"
      ],
      "text/plain": [
       "                                                 link          State  pop2016  \\\n",
       "80  {\"type\":\"a\",\"key\":null,\"ref\":null,\"props\":{\"hr...  Massachusetts   785205   \n",
       "84  {\"type\":\"a\",\"key\":null,\"ref\":null,\"props\":{\"hr...        Georgia   755754   \n",
       "33  {\"type\":\"a\",\"key\":null,\"ref\":null,\"props\":{\"hr...           Ohio  1248514   \n",
       "81  {\"type\":\"a\",\"key\":null,\"ref\":null,\"props\":{\"hr...     California   771410   \n",
       "93  {\"type\":\"a\",\"key\":null,\"ref\":null,\"props\":{\"hr...       Missouri   698895   \n",
       "\n",
       "    pop2010  GrowthRate        clean_link  \n",
       "80   745422    0.053370      Essex County  \n",
       "84   689595    0.095939       Cobb County  \n",
       "33  1278200   -0.023225   Cuyahoga County  \n",
       "81   719899    0.071553  San Mateo County  \n",
       "93   674804    0.035701    Jackson County  "
      ]
     },
     "execution_count": 11,
     "metadata": {},
     "output_type": "execute_result"
    }
   ],
   "source": [
    "countyDF.sample(n=5, random_state=1)"
   ]
  },
  {
   "cell_type": "markdown",
   "metadata": {},
   "source": [
    "Because our crime records is in 2013, so we will generate the population of each county in 2013 with their population in 2010 and the growth rate of their population."
   ]
  },
  {
   "cell_type": "code",
   "execution_count": 12,
   "metadata": {},
   "outputs": [],
   "source": [
    "pop2013 = []\n",
    "for index, row in countyDF.iterrows():\n",
    "    result = row['pop2010']*(1 + float(row['GrowthRate']))**3\n",
    "    pop2013.append(int(result))"
   ]
  },
  {
   "cell_type": "code",
   "execution_count": 13,
   "metadata": {},
   "outputs": [],
   "source": [
    "countyDF['pop2013'] = pop2013"
   ]
  },
  {
   "cell_type": "code",
   "execution_count": 14,
   "metadata": {},
   "outputs": [
    {
     "data": {
      "text/html": [
       "<div>\n",
       "<style scoped>\n",
       "    .dataframe tbody tr th:only-of-type {\n",
       "        vertical-align: middle;\n",
       "    }\n",
       "\n",
       "    .dataframe tbody tr th {\n",
       "        vertical-align: top;\n",
       "    }\n",
       "\n",
       "    .dataframe thead th {\n",
       "        text-align: right;\n",
       "    }\n",
       "</style>\n",
       "<table border=\"1\" class=\"dataframe\">\n",
       "  <thead>\n",
       "    <tr style=\"text-align: right;\">\n",
       "      <th></th>\n",
       "      <th>link</th>\n",
       "      <th>State</th>\n",
       "      <th>pop2016</th>\n",
       "      <th>pop2010</th>\n",
       "      <th>GrowthRate</th>\n",
       "      <th>clean_link</th>\n",
       "      <th>pop2013</th>\n",
       "    </tr>\n",
       "  </thead>\n",
       "  <tbody>\n",
       "    <tr>\n",
       "      <th>80</th>\n",
       "      <td>{\"type\":\"a\",\"key\":null,\"ref\":null,\"props\":{\"hr...</td>\n",
       "      <td>Massachusetts</td>\n",
       "      <td>785205</td>\n",
       "      <td>745422</td>\n",
       "      <td>0.053370</td>\n",
       "      <td>Essex County</td>\n",
       "      <td>871253</td>\n",
       "    </tr>\n",
       "    <tr>\n",
       "      <th>84</th>\n",
       "      <td>{\"type\":\"a\",\"key\":null,\"ref\":null,\"props\":{\"hr...</td>\n",
       "      <td>Georgia</td>\n",
       "      <td>755754</td>\n",
       "      <td>689595</td>\n",
       "      <td>0.095939</td>\n",
       "      <td>Cobb County</td>\n",
       "      <td>907722</td>\n",
       "    </tr>\n",
       "    <tr>\n",
       "      <th>33</th>\n",
       "      <td>{\"type\":\"a\",\"key\":null,\"ref\":null,\"props\":{\"hr...</td>\n",
       "      <td>Ohio</td>\n",
       "      <td>1248514</td>\n",
       "      <td>1278200</td>\n",
       "      <td>-0.023225</td>\n",
       "      <td>Cuyahoga County</td>\n",
       "      <td>1191194</td>\n",
       "    </tr>\n",
       "    <tr>\n",
       "      <th>81</th>\n",
       "      <td>{\"type\":\"a\",\"key\":null,\"ref\":null,\"props\":{\"hr...</td>\n",
       "      <td>California</td>\n",
       "      <td>771410</td>\n",
       "      <td>719899</td>\n",
       "      <td>0.071553</td>\n",
       "      <td>San Mateo County</td>\n",
       "      <td>885753</td>\n",
       "    </tr>\n",
       "    <tr>\n",
       "      <th>93</th>\n",
       "      <td>{\"type\":\"a\",\"key\":null,\"ref\":null,\"props\":{\"hr...</td>\n",
       "      <td>Missouri</td>\n",
       "      <td>698895</td>\n",
       "      <td>674804</td>\n",
       "      <td>0.035701</td>\n",
       "      <td>Jackson County</td>\n",
       "      <td>749687</td>\n",
       "    </tr>\n",
       "  </tbody>\n",
       "</table>\n",
       "</div>"
      ],
      "text/plain": [
       "                                                 link          State  pop2016  \\\n",
       "80  {\"type\":\"a\",\"key\":null,\"ref\":null,\"props\":{\"hr...  Massachusetts   785205   \n",
       "84  {\"type\":\"a\",\"key\":null,\"ref\":null,\"props\":{\"hr...        Georgia   755754   \n",
       "33  {\"type\":\"a\",\"key\":null,\"ref\":null,\"props\":{\"hr...           Ohio  1248514   \n",
       "81  {\"type\":\"a\",\"key\":null,\"ref\":null,\"props\":{\"hr...     California   771410   \n",
       "93  {\"type\":\"a\",\"key\":null,\"ref\":null,\"props\":{\"hr...       Missouri   698895   \n",
       "\n",
       "    pop2010  GrowthRate        clean_link  pop2013  \n",
       "80   745422    0.053370      Essex County   871253  \n",
       "84   689595    0.095939       Cobb County   907722  \n",
       "33  1278200   -0.023225   Cuyahoga County  1191194  \n",
       "81   719899    0.071553  San Mateo County   885753  \n",
       "93   674804    0.035701    Jackson County   749687  "
      ]
     },
     "execution_count": 14,
     "metadata": {},
     "output_type": "execute_result"
    }
   ],
   "source": [
    "countyDF.sample(n=5, random_state=1)"
   ]
  },
  {
   "cell_type": "markdown",
   "metadata": {},
   "source": [
    "We only need to keep the columns clean_link and pop2013."
   ]
  },
  {
   "cell_type": "code",
   "execution_count": 15,
   "metadata": {},
   "outputs": [],
   "source": [
    "countyDF = countyDF[['clean_link','pop2013']]"
   ]
  },
  {
   "cell_type": "code",
   "execution_count": 16,
   "metadata": {},
   "outputs": [
    {
     "data": {
      "text/html": [
       "<div>\n",
       "<style scoped>\n",
       "    .dataframe tbody tr th:only-of-type {\n",
       "        vertical-align: middle;\n",
       "    }\n",
       "\n",
       "    .dataframe tbody tr th {\n",
       "        vertical-align: top;\n",
       "    }\n",
       "\n",
       "    .dataframe thead th {\n",
       "        text-align: right;\n",
       "    }\n",
       "</style>\n",
       "<table border=\"1\" class=\"dataframe\">\n",
       "  <thead>\n",
       "    <tr style=\"text-align: right;\">\n",
       "      <th></th>\n",
       "      <th>clean_link</th>\n",
       "      <th>pop2013</th>\n",
       "    </tr>\n",
       "  </thead>\n",
       "  <tbody>\n",
       "    <tr>\n",
       "      <th>80</th>\n",
       "      <td>Essex County</td>\n",
       "      <td>871253</td>\n",
       "    </tr>\n",
       "    <tr>\n",
       "      <th>84</th>\n",
       "      <td>Cobb County</td>\n",
       "      <td>907722</td>\n",
       "    </tr>\n",
       "    <tr>\n",
       "      <th>33</th>\n",
       "      <td>Cuyahoga County</td>\n",
       "      <td>1191194</td>\n",
       "    </tr>\n",
       "    <tr>\n",
       "      <th>81</th>\n",
       "      <td>San Mateo County</td>\n",
       "      <td>885753</td>\n",
       "    </tr>\n",
       "    <tr>\n",
       "      <th>93</th>\n",
       "      <td>Jackson County</td>\n",
       "      <td>749687</td>\n",
       "    </tr>\n",
       "  </tbody>\n",
       "</table>\n",
       "</div>"
      ],
      "text/plain": [
       "          clean_link  pop2013\n",
       "80      Essex County   871253\n",
       "84       Cobb County   907722\n",
       "33   Cuyahoga County  1191194\n",
       "81  San Mateo County   885753\n",
       "93    Jackson County   749687"
      ]
     },
     "execution_count": 16,
     "metadata": {},
     "output_type": "execute_result"
    }
   ],
   "source": [
    "countyDF.sample(n=5, random_state=1)"
   ]
  },
  {
   "cell_type": "markdown",
   "metadata": {},
   "source": [
    "Fill the NaN in population column in crimeDf with countyDF."
   ]
  },
  {
   "cell_type": "code",
   "execution_count": 17,
   "metadata": {},
   "outputs": [],
   "source": [
    "d = {}\n",
    "for index, row in countyDF.iterrows():\n",
    "    d[row['clean_link'].rsplit(' ', 1)[0]] = row['pop2013']"
   ]
  },
  {
   "cell_type": "code",
   "execution_count": 18,
   "metadata": {},
   "outputs": [],
   "source": [
    "for index, row in crimeDF.iterrows():\n",
    "    if type(row['Population']) is str:\n",
    "        crimeDF.at[index, 'Population'] = row['Population'].replace(',', '')\n",
    "    if row['Agency name'] in d and type(row['Population']) is float:\n",
    "        crimeDF.at[index, 'Population'] = d[row['Agency name']]"
   ]
  },
  {
   "cell_type": "markdown",
   "metadata": {},
   "source": [
    "There are still some nan values in the poplation column for thoes counties that are not in our county file. For this project we will only keep the rows that doesn't have NaN in the population column."
   ]
  },
  {
   "cell_type": "code",
   "execution_count": 19,
   "metadata": {},
   "outputs": [],
   "source": [
    "for element in crimeDF:\n",
    "    if type(element) is str:\n",
    "        element= element.replace(',', '')\n",
    "crimeDF['Population'] = crimeDF['Population'].astype(float)\n",
    "crimeDF = crimeDF[np.isfinite(crimeDF['Population'])]"
   ]
  },
  {
   "cell_type": "code",
   "execution_count": 20,
   "metadata": {},
   "outputs": [
    {
     "data": {
      "text/plain": [
       "0"
      ]
     },
     "execution_count": 20,
     "metadata": {},
     "output_type": "execute_result"
    }
   ],
   "source": [
    "crimeDF['Population'].isna().sum()"
   ]
  },
  {
   "cell_type": "markdown",
   "metadata": {},
   "source": [
    "There are also NaN values in other columns in the crimeDF. But from observe the dataframe, we find out these NaN values is just when the number of crime is 0(I guess sometimes they decide to leave the cell empty if no crime is reported). So we can just fill these NaNs with 0."
   ]
  },
  {
   "cell_type": "code",
   "execution_count": 21,
   "metadata": {},
   "outputs": [
    {
     "data": {
      "text/plain": [
       "State                  0\n",
       "Agency type            0\n",
       "Agency name            0\n",
       "Race                   0\n",
       "Religion               0\n",
       "Sexual orientation     0\n",
       "Ethnicity              0\n",
       "Disability             0\n",
       "Gender                 1\n",
       "Gender Identity        1\n",
       "1st quarter           25\n",
       "2nd quarter           28\n",
       "3rd quarter           17\n",
       "4th quarter           36\n",
       "Population             0\n",
       "dtype: int64"
      ]
     },
     "execution_count": 21,
     "metadata": {},
     "output_type": "execute_result"
    }
   ],
   "source": [
    "crimeDF.isna().sum()"
   ]
  },
  {
   "cell_type": "code",
   "execution_count": 22,
   "metadata": {},
   "outputs": [],
   "source": [
    "crimeDF = crimeDF.fillna(0)"
   ]
  },
  {
   "cell_type": "code",
   "execution_count": 23,
   "metadata": {},
   "outputs": [
    {
     "data": {
      "text/plain": [
       "State                 0\n",
       "Agency type           0\n",
       "Agency name           0\n",
       "Race                  0\n",
       "Religion              0\n",
       "Sexual orientation    0\n",
       "Ethnicity             0\n",
       "Disability            0\n",
       "Gender                0\n",
       "Gender Identity       0\n",
       "1st quarter           0\n",
       "2nd quarter           0\n",
       "3rd quarter           0\n",
       "4th quarter           0\n",
       "Population            0\n",
       "dtype: int64"
      ]
     },
     "execution_count": 23,
     "metadata": {},
     "output_type": "execute_result"
    }
   ],
   "source": [
    "crimeDF.isna().sum()"
   ]
  },
  {
   "cell_type": "markdown",
   "metadata": {},
   "source": [
    "Create a new column to calculate the total number of crimes in each area."
   ]
  },
  {
   "cell_type": "code",
   "execution_count": 24,
   "metadata": {},
   "outputs": [],
   "source": [
    "total_crime = []"
   ]
  },
  {
   "cell_type": "code",
   "execution_count": 25,
   "metadata": {},
   "outputs": [],
   "source": [
    "for index, row in crimeDF.iterrows():\n",
    "    total = int(row[10]) + int(row[11]) + int(row[12]) + int(row[13])\n",
    "    total_crime.append(total)"
   ]
  },
  {
   "cell_type": "code",
   "execution_count": 26,
   "metadata": {},
   "outputs": [],
   "source": [
    "crimeDF['total_crime'] = total_crime"
   ]
  },
  {
   "cell_type": "markdown",
   "metadata": {},
   "source": [
    "Create a new column called population_in_thounds to convert population to population with unit of 1000 people."
   ]
  },
  {
   "cell_type": "code",
   "execution_count": 27,
   "metadata": {},
   "outputs": [],
   "source": [
    "population_in_thounsands = []\n",
    "for element in crimeDF['Population']:\n",
    "    population_in_thounsands.append(element / 1000)"
   ]
  },
  {
   "cell_type": "code",
   "execution_count": 28,
   "metadata": {},
   "outputs": [],
   "source": [
    "crimeDF['Population_in_thounsands'] = population_in_thounsands"
   ]
  },
  {
   "cell_type": "code",
   "execution_count": 29,
   "metadata": {},
   "outputs": [
    {
     "data": {
      "text/html": [
       "<div>\n",
       "<style scoped>\n",
       "    .dataframe tbody tr th:only-of-type {\n",
       "        vertical-align: middle;\n",
       "    }\n",
       "\n",
       "    .dataframe tbody tr th {\n",
       "        vertical-align: top;\n",
       "    }\n",
       "\n",
       "    .dataframe thead th {\n",
       "        text-align: right;\n",
       "    }\n",
       "</style>\n",
       "<table border=\"1\" class=\"dataframe\">\n",
       "  <thead>\n",
       "    <tr style=\"text-align: right;\">\n",
       "      <th></th>\n",
       "      <th>State</th>\n",
       "      <th>Agency type</th>\n",
       "      <th>Agency name</th>\n",
       "      <th>Race</th>\n",
       "      <th>Religion</th>\n",
       "      <th>Sexual orientation</th>\n",
       "      <th>Ethnicity</th>\n",
       "      <th>Disability</th>\n",
       "      <th>Gender</th>\n",
       "      <th>Gender Identity</th>\n",
       "      <th>1st quarter</th>\n",
       "      <th>2nd quarter</th>\n",
       "      <th>3rd quarter</th>\n",
       "      <th>4th quarter</th>\n",
       "      <th>Population</th>\n",
       "      <th>total_crime</th>\n",
       "      <th>Population_in_thounsands</th>\n",
       "    </tr>\n",
       "  </thead>\n",
       "  <tbody>\n",
       "    <tr>\n",
       "      <th>0</th>\n",
       "      <td>Alabama</td>\n",
       "      <td>Cities</td>\n",
       "      <td>Florence</td>\n",
       "      <td>2</td>\n",
       "      <td>0</td>\n",
       "      <td>0</td>\n",
       "      <td>0</td>\n",
       "      <td>0</td>\n",
       "      <td>0</td>\n",
       "      <td>0.0</td>\n",
       "      <td>0.0</td>\n",
       "      <td>1.0</td>\n",
       "      <td>0.0</td>\n",
       "      <td>1.0</td>\n",
       "      <td>39481.0</td>\n",
       "      <td>2</td>\n",
       "      <td>39.481</td>\n",
       "    </tr>\n",
       "    <tr>\n",
       "      <th>1</th>\n",
       "      <td>Alabama</td>\n",
       "      <td>Cities</td>\n",
       "      <td>Hoover</td>\n",
       "      <td>0</td>\n",
       "      <td>0</td>\n",
       "      <td>1</td>\n",
       "      <td>0</td>\n",
       "      <td>0</td>\n",
       "      <td>0</td>\n",
       "      <td>0.0</td>\n",
       "      <td>0.0</td>\n",
       "      <td>1.0</td>\n",
       "      <td>0.0</td>\n",
       "      <td>0.0</td>\n",
       "      <td>84139.0</td>\n",
       "      <td>1</td>\n",
       "      <td>84.139</td>\n",
       "    </tr>\n",
       "    <tr>\n",
       "      <th>2</th>\n",
       "      <td>Alabama</td>\n",
       "      <td>Cities</td>\n",
       "      <td>Prattville</td>\n",
       "      <td>2</td>\n",
       "      <td>0</td>\n",
       "      <td>0</td>\n",
       "      <td>0</td>\n",
       "      <td>0</td>\n",
       "      <td>0</td>\n",
       "      <td>0.0</td>\n",
       "      <td>1.0</td>\n",
       "      <td>0.0</td>\n",
       "      <td>1.0</td>\n",
       "      <td>0.0</td>\n",
       "      <td>35154.0</td>\n",
       "      <td>2</td>\n",
       "      <td>35.154</td>\n",
       "    </tr>\n",
       "    <tr>\n",
       "      <th>3</th>\n",
       "      <td>Alabama</td>\n",
       "      <td>Cities</td>\n",
       "      <td>Tuscaloosa</td>\n",
       "      <td>1</td>\n",
       "      <td>0</td>\n",
       "      <td>0</td>\n",
       "      <td>0</td>\n",
       "      <td>0</td>\n",
       "      <td>0</td>\n",
       "      <td>0.0</td>\n",
       "      <td>0.0</td>\n",
       "      <td>0.0</td>\n",
       "      <td>1.0</td>\n",
       "      <td>0.0</td>\n",
       "      <td>94126.0</td>\n",
       "      <td>1</td>\n",
       "      <td>94.126</td>\n",
       "    </tr>\n",
       "    <tr>\n",
       "      <th>4</th>\n",
       "      <td>Alaska</td>\n",
       "      <td>Cities</td>\n",
       "      <td>Anchorage</td>\n",
       "      <td>8</td>\n",
       "      <td>0</td>\n",
       "      <td>0</td>\n",
       "      <td>0</td>\n",
       "      <td>0</td>\n",
       "      <td>0</td>\n",
       "      <td>0.0</td>\n",
       "      <td>2.0</td>\n",
       "      <td>3.0</td>\n",
       "      <td>3.0</td>\n",
       "      <td>0.0</td>\n",
       "      <td>299455.0</td>\n",
       "      <td>8</td>\n",
       "      <td>299.455</td>\n",
       "    </tr>\n",
       "  </tbody>\n",
       "</table>\n",
       "</div>"
      ],
      "text/plain": [
       "     State Agency type Agency name  Race  Religion  Sexual orientation  \\\n",
       "0  Alabama      Cities    Florence     2         0                   0   \n",
       "1  Alabama      Cities      Hoover     0         0                   1   \n",
       "2  Alabama      Cities  Prattville     2         0                   0   \n",
       "3  Alabama      Cities  Tuscaloosa     1         0                   0   \n",
       "4   Alaska      Cities   Anchorage     8         0                   0   \n",
       "\n",
       "   Ethnicity  Disability Gender  Gender Identity  1st quarter  2nd quarter  \\\n",
       "0          0           0      0              0.0          0.0          1.0   \n",
       "1          0           0      0              0.0          0.0          1.0   \n",
       "2          0           0      0              0.0          1.0          0.0   \n",
       "3          0           0      0              0.0          0.0          0.0   \n",
       "4          0           0      0              0.0          2.0          3.0   \n",
       "\n",
       "   3rd quarter  4th quarter  Population  total_crime  Population_in_thounsands  \n",
       "0          0.0          1.0     39481.0            2                    39.481  \n",
       "1          0.0          0.0     84139.0            1                    84.139  \n",
       "2          1.0          0.0     35154.0            2                    35.154  \n",
       "3          1.0          0.0     94126.0            1                    94.126  \n",
       "4          3.0          0.0    299455.0            8                   299.455  "
      ]
     },
     "execution_count": 29,
     "metadata": {},
     "output_type": "execute_result"
    }
   ],
   "source": [
    "crimeDF.head()"
   ]
  },
  {
   "cell_type": "markdown",
   "metadata": {},
   "source": [
    "Create a new column to calculate the hate crime rate of each area. Crime rate is calculated by: (number of crimes / population) * 100000. It means the number of crimes likely will happen in every hundred thousand people."
   ]
  },
  {
   "cell_type": "code",
   "execution_count": 30,
   "metadata": {},
   "outputs": [],
   "source": [
    "crime_rate = []"
   ]
  },
  {
   "cell_type": "code",
   "execution_count": 31,
   "metadata": {},
   "outputs": [],
   "source": [
    "for index, row in crimeDF.iterrows():\n",
    "    cr = (row['total_crime'] / row['Population']) * 100000\n",
    "    crime_rate.append(cr)\n",
    "crimeDF['hate_crime_rate'] = crime_rate"
   ]
  },
  {
   "cell_type": "code",
   "execution_count": 32,
   "metadata": {},
   "outputs": [
    {
     "data": {
      "text/html": [
       "<div>\n",
       "<style scoped>\n",
       "    .dataframe tbody tr th:only-of-type {\n",
       "        vertical-align: middle;\n",
       "    }\n",
       "\n",
       "    .dataframe tbody tr th {\n",
       "        vertical-align: top;\n",
       "    }\n",
       "\n",
       "    .dataframe thead th {\n",
       "        text-align: right;\n",
       "    }\n",
       "</style>\n",
       "<table border=\"1\" class=\"dataframe\">\n",
       "  <thead>\n",
       "    <tr style=\"text-align: right;\">\n",
       "      <th></th>\n",
       "      <th>State</th>\n",
       "      <th>Agency type</th>\n",
       "      <th>Agency name</th>\n",
       "      <th>Race</th>\n",
       "      <th>Religion</th>\n",
       "      <th>Sexual orientation</th>\n",
       "      <th>Ethnicity</th>\n",
       "      <th>Disability</th>\n",
       "      <th>Gender</th>\n",
       "      <th>Gender Identity</th>\n",
       "      <th>1st quarter</th>\n",
       "      <th>2nd quarter</th>\n",
       "      <th>3rd quarter</th>\n",
       "      <th>4th quarter</th>\n",
       "      <th>Population</th>\n",
       "      <th>total_crime</th>\n",
       "      <th>Population_in_thounsands</th>\n",
       "      <th>hate_crime_rate</th>\n",
       "    </tr>\n",
       "  </thead>\n",
       "  <tbody>\n",
       "    <tr>\n",
       "      <th>0</th>\n",
       "      <td>Alabama</td>\n",
       "      <td>Cities</td>\n",
       "      <td>Florence</td>\n",
       "      <td>2</td>\n",
       "      <td>0</td>\n",
       "      <td>0</td>\n",
       "      <td>0</td>\n",
       "      <td>0</td>\n",
       "      <td>0</td>\n",
       "      <td>0.0</td>\n",
       "      <td>0.0</td>\n",
       "      <td>1.0</td>\n",
       "      <td>0.0</td>\n",
       "      <td>1.0</td>\n",
       "      <td>39481.0</td>\n",
       "      <td>2</td>\n",
       "      <td>39.481</td>\n",
       "      <td>5.065728</td>\n",
       "    </tr>\n",
       "    <tr>\n",
       "      <th>1</th>\n",
       "      <td>Alabama</td>\n",
       "      <td>Cities</td>\n",
       "      <td>Hoover</td>\n",
       "      <td>0</td>\n",
       "      <td>0</td>\n",
       "      <td>1</td>\n",
       "      <td>0</td>\n",
       "      <td>0</td>\n",
       "      <td>0</td>\n",
       "      <td>0.0</td>\n",
       "      <td>0.0</td>\n",
       "      <td>1.0</td>\n",
       "      <td>0.0</td>\n",
       "      <td>0.0</td>\n",
       "      <td>84139.0</td>\n",
       "      <td>1</td>\n",
       "      <td>84.139</td>\n",
       "      <td>1.188509</td>\n",
       "    </tr>\n",
       "    <tr>\n",
       "      <th>2</th>\n",
       "      <td>Alabama</td>\n",
       "      <td>Cities</td>\n",
       "      <td>Prattville</td>\n",
       "      <td>2</td>\n",
       "      <td>0</td>\n",
       "      <td>0</td>\n",
       "      <td>0</td>\n",
       "      <td>0</td>\n",
       "      <td>0</td>\n",
       "      <td>0.0</td>\n",
       "      <td>1.0</td>\n",
       "      <td>0.0</td>\n",
       "      <td>1.0</td>\n",
       "      <td>0.0</td>\n",
       "      <td>35154.0</td>\n",
       "      <td>2</td>\n",
       "      <td>35.154</td>\n",
       "      <td>5.689253</td>\n",
       "    </tr>\n",
       "    <tr>\n",
       "      <th>3</th>\n",
       "      <td>Alabama</td>\n",
       "      <td>Cities</td>\n",
       "      <td>Tuscaloosa</td>\n",
       "      <td>1</td>\n",
       "      <td>0</td>\n",
       "      <td>0</td>\n",
       "      <td>0</td>\n",
       "      <td>0</td>\n",
       "      <td>0</td>\n",
       "      <td>0.0</td>\n",
       "      <td>0.0</td>\n",
       "      <td>0.0</td>\n",
       "      <td>1.0</td>\n",
       "      <td>0.0</td>\n",
       "      <td>94126.0</td>\n",
       "      <td>1</td>\n",
       "      <td>94.126</td>\n",
       "      <td>1.062406</td>\n",
       "    </tr>\n",
       "    <tr>\n",
       "      <th>4</th>\n",
       "      <td>Alaska</td>\n",
       "      <td>Cities</td>\n",
       "      <td>Anchorage</td>\n",
       "      <td>8</td>\n",
       "      <td>0</td>\n",
       "      <td>0</td>\n",
       "      <td>0</td>\n",
       "      <td>0</td>\n",
       "      <td>0</td>\n",
       "      <td>0.0</td>\n",
       "      <td>2.0</td>\n",
       "      <td>3.0</td>\n",
       "      <td>3.0</td>\n",
       "      <td>0.0</td>\n",
       "      <td>299455.0</td>\n",
       "      <td>8</td>\n",
       "      <td>299.455</td>\n",
       "      <td>2.671520</td>\n",
       "    </tr>\n",
       "  </tbody>\n",
       "</table>\n",
       "</div>"
      ],
      "text/plain": [
       "     State Agency type Agency name  Race  Religion  Sexual orientation  \\\n",
       "0  Alabama      Cities    Florence     2         0                   0   \n",
       "1  Alabama      Cities      Hoover     0         0                   1   \n",
       "2  Alabama      Cities  Prattville     2         0                   0   \n",
       "3  Alabama      Cities  Tuscaloosa     1         0                   0   \n",
       "4   Alaska      Cities   Anchorage     8         0                   0   \n",
       "\n",
       "   Ethnicity  Disability Gender  Gender Identity  1st quarter  2nd quarter  \\\n",
       "0          0           0      0              0.0          0.0          1.0   \n",
       "1          0           0      0              0.0          0.0          1.0   \n",
       "2          0           0      0              0.0          1.0          0.0   \n",
       "3          0           0      0              0.0          0.0          0.0   \n",
       "4          0           0      0              0.0          2.0          3.0   \n",
       "\n",
       "   3rd quarter  4th quarter  Population  total_crime  \\\n",
       "0          0.0          1.0     39481.0            2   \n",
       "1          0.0          0.0     84139.0            1   \n",
       "2          1.0          0.0     35154.0            2   \n",
       "3          1.0          0.0     94126.0            1   \n",
       "4          3.0          0.0    299455.0            8   \n",
       "\n",
       "   Population_in_thounsands  hate_crime_rate  \n",
       "0                    39.481         5.065728  \n",
       "1                    84.139         1.188509  \n",
       "2                    35.154         5.689253  \n",
       "3                    94.126         1.062406  \n",
       "4                   299.455         2.671520  "
      ]
     },
     "execution_count": 32,
     "metadata": {},
     "output_type": "execute_result"
    }
   ],
   "source": [
    "crimeDF.head()"
   ]
  },
  {
   "cell_type": "code",
   "execution_count": 33,
   "metadata": {},
   "outputs": [],
   "source": [
    "crimeDF.drop(crimeDF.columns[[3,4,5,6,7,8,9,10,11,12,13]], axis = 1, inplace = True)"
   ]
  },
  {
   "cell_type": "code",
   "execution_count": 34,
   "metadata": {},
   "outputs": [
    {
     "data": {
      "text/plain": [
       "6.285750229122293"
      ]
     },
     "execution_count": 34,
     "metadata": {},
     "output_type": "execute_result"
    }
   ],
   "source": [
    "crimeDF['hate_crime_rate'].median()"
   ]
  },
  {
   "cell_type": "markdown",
   "metadata": {},
   "source": [
    "The median of hate crime rate is around 6.3. Create a new column to indicate each area has high hate crime rate(above median) or low hate crime rate(below median). "
   ]
  },
  {
   "cell_type": "code",
   "execution_count": 35,
   "metadata": {},
   "outputs": [],
   "source": [
    "high_hate_crime_rate = []\n",
    "for element in crimeDF['hate_crime_rate']:\n",
    "    if element > 6.3:\n",
    "        high_hate_crime_rate.append(1)\n",
    "    else:\n",
    "        high_hate_crime_rate.append(0)\n",
    "crimeDF['high_hate_crime_rate'] = high_hate_crime_rate"
   ]
  },
  {
   "cell_type": "markdown",
   "metadata": {},
   "source": [
    "Rearrange columns of crimeDF so the Y variable is at the begining of the dataframe."
   ]
  },
  {
   "cell_type": "code",
   "execution_count": 36,
   "metadata": {},
   "outputs": [],
   "source": [
    "crimeDF = crimeDF[['high_hate_crime_rate', 'State', 'Agency type', 'Agency name', 'Population', 'total_crime', 'Population_in_thounsands', 'hate_crime_rate']]"
   ]
  },
  {
   "cell_type": "code",
   "execution_count": 37,
   "metadata": {},
   "outputs": [],
   "source": [
    "agency_type_dummy = pd.get_dummies(crimeDF['Agency type'])"
   ]
  },
  {
   "cell_type": "code",
   "execution_count": 38,
   "metadata": {},
   "outputs": [],
   "source": [
    "state_dummy = pd.get_dummies(crimeDF['State'])"
   ]
  },
  {
   "cell_type": "code",
   "execution_count": 39,
   "metadata": {},
   "outputs": [],
   "source": [
    "crimeDF = pd.concat([crimeDF, agency_type_dummy, state_dummy], axis=1,sort = True)"
   ]
  },
  {
   "cell_type": "code",
   "execution_count": 40,
   "metadata": {},
   "outputs": [],
   "source": [
    "crimeDF.drop(['State', 'Agency type', 'Agency name'],axis = 1, inplace = True)"
   ]
  },
  {
   "cell_type": "code",
   "execution_count": 41,
   "metadata": {},
   "outputs": [],
   "source": [
    "crimeDF.drop(['Population', 'total_crime', 'hate_crime_rate'],axis = 1, inplace = True)"
   ]
  },
  {
   "cell_type": "code",
   "execution_count": 42,
   "metadata": {},
   "outputs": [
    {
     "data": {
      "text/html": [
       "<div>\n",
       "<style scoped>\n",
       "    .dataframe tbody tr th:only-of-type {\n",
       "        vertical-align: middle;\n",
       "    }\n",
       "\n",
       "    .dataframe tbody tr th {\n",
       "        vertical-align: top;\n",
       "    }\n",
       "\n",
       "    .dataframe thead th {\n",
       "        text-align: right;\n",
       "    }\n",
       "</style>\n",
       "<table border=\"1\" class=\"dataframe\">\n",
       "  <thead>\n",
       "    <tr style=\"text-align: right;\">\n",
       "      <th></th>\n",
       "      <th>high_hate_crime_rate</th>\n",
       "      <th>Population_in_thounsands</th>\n",
       "      <th>Cities</th>\n",
       "      <th>Metropolitan Counties</th>\n",
       "      <th>Nonmetropolitan Counties</th>\n",
       "      <th>Universities and Colleges</th>\n",
       "      <th>Alabama</th>\n",
       "      <th>Alaska</th>\n",
       "      <th>Arizona</th>\n",
       "      <th>Arkansas</th>\n",
       "      <th>...</th>\n",
       "      <th>South_Dakota</th>\n",
       "      <th>Tennessee</th>\n",
       "      <th>Texas</th>\n",
       "      <th>Utah</th>\n",
       "      <th>Vermont</th>\n",
       "      <th>Virginia</th>\n",
       "      <th>Washington</th>\n",
       "      <th>West_Virginia</th>\n",
       "      <th>Wisconsin</th>\n",
       "      <th>Wyoming</th>\n",
       "    </tr>\n",
       "  </thead>\n",
       "  <tbody>\n",
       "    <tr>\n",
       "      <th>0</th>\n",
       "      <td>0</td>\n",
       "      <td>39.481</td>\n",
       "      <td>1</td>\n",
       "      <td>0</td>\n",
       "      <td>0</td>\n",
       "      <td>0</td>\n",
       "      <td>1</td>\n",
       "      <td>0</td>\n",
       "      <td>0</td>\n",
       "      <td>0</td>\n",
       "      <td>...</td>\n",
       "      <td>0</td>\n",
       "      <td>0</td>\n",
       "      <td>0</td>\n",
       "      <td>0</td>\n",
       "      <td>0</td>\n",
       "      <td>0</td>\n",
       "      <td>0</td>\n",
       "      <td>0</td>\n",
       "      <td>0</td>\n",
       "      <td>0</td>\n",
       "    </tr>\n",
       "    <tr>\n",
       "      <th>1</th>\n",
       "      <td>0</td>\n",
       "      <td>84.139</td>\n",
       "      <td>1</td>\n",
       "      <td>0</td>\n",
       "      <td>0</td>\n",
       "      <td>0</td>\n",
       "      <td>1</td>\n",
       "      <td>0</td>\n",
       "      <td>0</td>\n",
       "      <td>0</td>\n",
       "      <td>...</td>\n",
       "      <td>0</td>\n",
       "      <td>0</td>\n",
       "      <td>0</td>\n",
       "      <td>0</td>\n",
       "      <td>0</td>\n",
       "      <td>0</td>\n",
       "      <td>0</td>\n",
       "      <td>0</td>\n",
       "      <td>0</td>\n",
       "      <td>0</td>\n",
       "    </tr>\n",
       "    <tr>\n",
       "      <th>2</th>\n",
       "      <td>0</td>\n",
       "      <td>35.154</td>\n",
       "      <td>1</td>\n",
       "      <td>0</td>\n",
       "      <td>0</td>\n",
       "      <td>0</td>\n",
       "      <td>1</td>\n",
       "      <td>0</td>\n",
       "      <td>0</td>\n",
       "      <td>0</td>\n",
       "      <td>...</td>\n",
       "      <td>0</td>\n",
       "      <td>0</td>\n",
       "      <td>0</td>\n",
       "      <td>0</td>\n",
       "      <td>0</td>\n",
       "      <td>0</td>\n",
       "      <td>0</td>\n",
       "      <td>0</td>\n",
       "      <td>0</td>\n",
       "      <td>0</td>\n",
       "    </tr>\n",
       "    <tr>\n",
       "      <th>3</th>\n",
       "      <td>0</td>\n",
       "      <td>94.126</td>\n",
       "      <td>1</td>\n",
       "      <td>0</td>\n",
       "      <td>0</td>\n",
       "      <td>0</td>\n",
       "      <td>1</td>\n",
       "      <td>0</td>\n",
       "      <td>0</td>\n",
       "      <td>0</td>\n",
       "      <td>...</td>\n",
       "      <td>0</td>\n",
       "      <td>0</td>\n",
       "      <td>0</td>\n",
       "      <td>0</td>\n",
       "      <td>0</td>\n",
       "      <td>0</td>\n",
       "      <td>0</td>\n",
       "      <td>0</td>\n",
       "      <td>0</td>\n",
       "      <td>0</td>\n",
       "    </tr>\n",
       "    <tr>\n",
       "      <th>4</th>\n",
       "      <td>0</td>\n",
       "      <td>299.455</td>\n",
       "      <td>1</td>\n",
       "      <td>0</td>\n",
       "      <td>0</td>\n",
       "      <td>0</td>\n",
       "      <td>0</td>\n",
       "      <td>1</td>\n",
       "      <td>0</td>\n",
       "      <td>0</td>\n",
       "      <td>...</td>\n",
       "      <td>0</td>\n",
       "      <td>0</td>\n",
       "      <td>0</td>\n",
       "      <td>0</td>\n",
       "      <td>0</td>\n",
       "      <td>0</td>\n",
       "      <td>0</td>\n",
       "      <td>0</td>\n",
       "      <td>0</td>\n",
       "      <td>0</td>\n",
       "    </tr>\n",
       "  </tbody>\n",
       "</table>\n",
       "<p>5 rows × 56 columns</p>\n",
       "</div>"
      ],
      "text/plain": [
       "   high_hate_crime_rate  Population_in_thounsands  Cities  \\\n",
       "0                     0                    39.481       1   \n",
       "1                     0                    84.139       1   \n",
       "2                     0                    35.154       1   \n",
       "3                     0                    94.126       1   \n",
       "4                     0                   299.455       1   \n",
       "\n",
       "   Metropolitan Counties  Nonmetropolitan Counties  Universities and Colleges  \\\n",
       "0                      0                         0                          0   \n",
       "1                      0                         0                          0   \n",
       "2                      0                         0                          0   \n",
       "3                      0                         0                          0   \n",
       "4                      0                         0                          0   \n",
       "\n",
       "   Alabama  Alaska  Arizona  Arkansas  ...  South_Dakota  Tennessee  Texas  \\\n",
       "0        1       0        0         0  ...             0          0      0   \n",
       "1        1       0        0         0  ...             0          0      0   \n",
       "2        1       0        0         0  ...             0          0      0   \n",
       "3        1       0        0         0  ...             0          0      0   \n",
       "4        0       1        0         0  ...             0          0      0   \n",
       "\n",
       "   Utah  Vermont  Virginia  Washington  West_Virginia  Wisconsin  Wyoming  \n",
       "0     0        0         0           0              0          0        0  \n",
       "1     0        0         0           0              0          0        0  \n",
       "2     0        0         0           0              0          0        0  \n",
       "3     0        0         0           0              0          0        0  \n",
       "4     0        0         0           0              0          0        0  \n",
       "\n",
       "[5 rows x 56 columns]"
      ]
     },
     "execution_count": 42,
     "metadata": {},
     "output_type": "execute_result"
    }
   ],
   "source": [
    "crimeDF.head()"
   ]
  },
  {
   "cell_type": "code",
   "execution_count": 48,
   "metadata": {},
   "outputs": [],
   "source": [
    "X = crimeDF.drop('high_hate_crime_rate', axis = 1)\n",
    "y = crimeDF['high_hate_crime_rate']"
   ]
  },
  {
   "cell_type": "code",
   "execution_count": 49,
   "metadata": {},
   "outputs": [],
   "source": [
    "from sklearn.model_selection import train_test_split"
   ]
  },
  {
   "cell_type": "code",
   "execution_count": 50,
   "metadata": {},
   "outputs": [],
   "source": [
    "X_train, X_test, y_train, y_test = train_test_split(X, y, test_size = 0.33, random_state = 1)"
   ]
  },
  {
   "cell_type": "code",
   "execution_count": 51,
   "metadata": {},
   "outputs": [],
   "source": [
    "from sklearn.linear_model import LogisticRegression"
   ]
  },
  {
   "cell_type": "code",
   "execution_count": 52,
   "metadata": {},
   "outputs": [],
   "source": [
    "lm = LogisticRegression()"
   ]
  },
  {
   "cell_type": "code",
   "execution_count": 53,
   "metadata": {},
   "outputs": [
    {
     "name": "stderr",
     "output_type": "stream",
     "text": [
      "/usr/local/lib/python3.7/site-packages/sklearn/linear_model/logistic.py:433: FutureWarning: Default solver will be changed to 'lbfgs' in 0.22. Specify a solver to silence this warning.\n",
      "  FutureWarning)\n"
     ]
    },
    {
     "data": {
      "text/plain": [
       "LogisticRegression(C=1.0, class_weight=None, dual=False, fit_intercept=True,\n",
       "          intercept_scaling=1, max_iter=100, multi_class='warn',\n",
       "          n_jobs=None, penalty='l2', random_state=None, solver='warn',\n",
       "          tol=0.0001, verbose=0, warm_start=False)"
      ]
     },
     "execution_count": 53,
     "metadata": {},
     "output_type": "execute_result"
    }
   ],
   "source": [
    "lm.fit(X_train, y_train)"
   ]
  },
  {
   "cell_type": "code",
   "execution_count": 55,
   "metadata": {},
   "outputs": [],
   "source": [
    "predictions = lm.predict(X_test)"
   ]
  },
  {
   "cell_type": "code",
   "execution_count": 57,
   "metadata": {},
   "outputs": [],
   "source": [
    "from sklearn.metrics import classification_report"
   ]
  },
  {
   "cell_type": "code",
   "execution_count": 59,
   "metadata": {},
   "outputs": [
    {
     "name": "stdout",
     "output_type": "stream",
     "text": [
      "              precision    recall  f1-score   support\n",
      "\n",
      "           0       0.79      0.67      0.72       249\n",
      "           1       0.70      0.81      0.76       243\n",
      "\n",
      "   micro avg       0.74      0.74      0.74       492\n",
      "   macro avg       0.75      0.74      0.74       492\n",
      "weighted avg       0.75      0.74      0.74       492\n",
      "\n"
     ]
    }
   ],
   "source": [
    "print(classification_report(y_test, predictions))"
   ]
  },
  {
   "cell_type": "code",
   "execution_count": 60,
   "metadata": {},
   "outputs": [],
   "source": [
    "from sklearn.metrics import confusion_matrix"
   ]
  },
  {
   "cell_type": "code",
   "execution_count": 61,
   "metadata": {},
   "outputs": [
    {
     "data": {
      "text/plain": [
       "array([[166,  83],\n",
       "       [ 45, 198]])"
      ]
     },
     "execution_count": 61,
     "metadata": {},
     "output_type": "execute_result"
    }
   ],
   "source": [
    "confusion_matrix(y_test, predictions)"
   ]
  },
  {
   "cell_type": "code",
   "execution_count": 62,
   "metadata": {},
   "outputs": [],
   "source": [
    "from sklearn.metrics import accuracy_score"
   ]
  },
  {
   "cell_type": "code",
   "execution_count": 63,
   "metadata": {},
   "outputs": [
    {
     "data": {
      "text/plain": [
       "0.7398373983739838"
      ]
     },
     "execution_count": 63,
     "metadata": {},
     "output_type": "execute_result"
    }
   ],
   "source": [
    "accuracy_score(y_test, predictions)"
   ]
  },
  {
   "cell_type": "code",
   "execution_count": null,
   "metadata": {},
   "outputs": [],
   "source": []
  }
 ],
 "metadata": {
  "kernelspec": {
   "display_name": "Python 3",
   "language": "python",
   "name": "python3"
  },
  "language_info": {
   "codemirror_mode": {
    "name": "ipython",
    "version": 3
   },
   "file_extension": ".py",
   "mimetype": "text/x-python",
   "name": "python",
   "nbconvert_exporter": "python",
   "pygments_lexer": "ipython3",
   "version": "3.7.3"
  }
 },
 "nbformat": 4,
 "nbformat_minor": 2
}
